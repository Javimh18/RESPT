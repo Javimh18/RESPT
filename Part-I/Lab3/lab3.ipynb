{
 "cells": [
  {
   "cell_type": "code",
   "execution_count": 1,
   "metadata": {},
   "outputs": [],
   "source": [
    "from scipy.io import loadmat\n",
    "import pandas as pd\n",
    "import numpy as np\n",
    "from preprocess_ecg_data import load_ecg_data\n",
    "from scipy.fft import fft, rfft, fftfreq, fftshift, dct\n",
    "from scipy.signal import find_peaks\n",
    "import matplotlib.pyplot as plt\n",
    "from scipy.stats import zscore\n",
    "\n",
    "ECG_LEN = 65536\n",
    "ECG_WINDOW = 2000\n",
    "F_SAMPLING = 128\n",
    "\n",
    "F_MAX = F_SAMPLING/2\n",
    "N_TOP_FREQ = 5\n",
    "BPM_2_1HZ = 60\n",
    "\n",
    "PATH = './ECGData.mat'"
   ]
  },
  {
   "cell_type": "code",
   "execution_count": 2,
   "metadata": {},
   "outputs": [],
   "source": [
    "# Download heartpy library\n",
    "# !python -m pip install heartpy"
   ]
  },
  {
   "cell_type": "markdown",
   "metadata": {},
   "source": [
    "### __Task 0: Data preprocessing__\n",
    "\n",
    "We are going to preprocess the data by taking the 162 samples of length 65536 and divide it in subsamples of length 2000, \"windowing\" the data. This will result in a dataframe that will have for each entry:\n",
    "* A sample of length 200.\n",
    "* The class of the subsample, wether is ARR (Arrhythmia), CHF (Congestive heart failure) or NSR (Normal sinus rhythm).\n",
    "* Where sample was the subsample originally obtained.\n",
    "* which n-th chunk of the original sample is the subsample (1-32)."
   ]
  },
  {
   "cell_type": "markdown",
   "metadata": {},
   "source": [
    "### __Mapping of labels__: \n",
    "* #####    1:ARR (Arrhythmia)\n",
    "* #####    2:CHF (Congestive heart failure)\n",
    "* #####    3:NSR (Normal sinus rhythm)"
   ]
  },
  {
   "cell_type": "code",
   "execution_count": 3,
   "metadata": {},
   "outputs": [
    {
     "data": {
      "text/html": [
       "<div>\n",
       "<style scoped>\n",
       "    .dataframe tbody tr th:only-of-type {\n",
       "        vertical-align: middle;\n",
       "    }\n",
       "\n",
       "    .dataframe tbody tr th {\n",
       "        vertical-align: top;\n",
       "    }\n",
       "\n",
       "    .dataframe thead th {\n",
       "        text-align: right;\n",
       "    }\n",
       "</style>\n",
       "<table border=\"1\" class=\"dataframe\">\n",
       "  <thead>\n",
       "    <tr style=\"text-align: right;\">\n",
       "      <th></th>\n",
       "      <th>ecg_data</th>\n",
       "      <th>class</th>\n",
       "      <th>sampled_from</th>\n",
       "      <th>n_chunk</th>\n",
       "    </tr>\n",
       "  </thead>\n",
       "  <tbody>\n",
       "    <tr>\n",
       "      <th>0</th>\n",
       "      <td>[-0.09785730141312626, -0.15688125766870917, -...</td>\n",
       "      <td>1</td>\n",
       "      <td>1</td>\n",
       "      <td>1</td>\n",
       "    </tr>\n",
       "    <tr>\n",
       "      <th>1</th>\n",
       "      <td>[-0.3484112418649029, -0.02274587725720959, 0....</td>\n",
       "      <td>1</td>\n",
       "      <td>1</td>\n",
       "      <td>2</td>\n",
       "    </tr>\n",
       "    <tr>\n",
       "      <th>2</th>\n",
       "      <td>[-0.4360649375168176, -0.4460280919950408, -0....</td>\n",
       "      <td>1</td>\n",
       "      <td>1</td>\n",
       "      <td>3</td>\n",
       "    </tr>\n",
       "    <tr>\n",
       "      <th>3</th>\n",
       "      <td>[-0.38340009514361517, -0.38383578522187806, -...</td>\n",
       "      <td>1</td>\n",
       "      <td>1</td>\n",
       "      <td>4</td>\n",
       "    </tr>\n",
       "    <tr>\n",
       "      <th>4</th>\n",
       "      <td>[-0.3231552247831461, -0.3163997523002529, -0....</td>\n",
       "      <td>1</td>\n",
       "      <td>1</td>\n",
       "      <td>5</td>\n",
       "    </tr>\n",
       "    <tr>\n",
       "      <th>...</th>\n",
       "      <td>...</td>\n",
       "      <td>...</td>\n",
       "      <td>...</td>\n",
       "      <td>...</td>\n",
       "    </tr>\n",
       "    <tr>\n",
       "      <th>5179</th>\n",
       "      <td>[-0.265, -0.265, -0.265, -0.185, -0.085, 0.275...</td>\n",
       "      <td>3</td>\n",
       "      <td>36</td>\n",
       "      <td>28</td>\n",
       "    </tr>\n",
       "    <tr>\n",
       "      <th>5180</th>\n",
       "      <td>[0.065, 0.055, 0.135, 0.225, 0.275, 0.325, 0.3...</td>\n",
       "      <td>3</td>\n",
       "      <td>36</td>\n",
       "      <td>29</td>\n",
       "    </tr>\n",
       "    <tr>\n",
       "      <th>5181</th>\n",
       "      <td>[-0.345, -0.365, -0.355, -0.355, -0.375, -0.34...</td>\n",
       "      <td>3</td>\n",
       "      <td>36</td>\n",
       "      <td>30</td>\n",
       "    </tr>\n",
       "    <tr>\n",
       "      <th>5182</th>\n",
       "      <td>[-0.005, 0.035, -0.045, 0.045, 0.015, -0.035, ...</td>\n",
       "      <td>3</td>\n",
       "      <td>36</td>\n",
       "      <td>31</td>\n",
       "    </tr>\n",
       "    <tr>\n",
       "      <th>5183</th>\n",
       "      <td>[-0.375, -0.395, -0.355, -0.395, -0.385, -0.36...</td>\n",
       "      <td>3</td>\n",
       "      <td>36</td>\n",
       "      <td>32</td>\n",
       "    </tr>\n",
       "  </tbody>\n",
       "</table>\n",
       "<p>5184 rows × 4 columns</p>\n",
       "</div>"
      ],
      "text/plain": [
       "                                               ecg_data  class  sampled_from  \\\n",
       "0     [-0.09785730141312626, -0.15688125766870917, -...      1             1   \n",
       "1     [-0.3484112418649029, -0.02274587725720959, 0....      1             1   \n",
       "2     [-0.4360649375168176, -0.4460280919950408, -0....      1             1   \n",
       "3     [-0.38340009514361517, -0.38383578522187806, -...      1             1   \n",
       "4     [-0.3231552247831461, -0.3163997523002529, -0....      1             1   \n",
       "...                                                 ...    ...           ...   \n",
       "5179  [-0.265, -0.265, -0.265, -0.185, -0.085, 0.275...      3            36   \n",
       "5180  [0.065, 0.055, 0.135, 0.225, 0.275, 0.325, 0.3...      3            36   \n",
       "5181  [-0.345, -0.365, -0.355, -0.355, -0.375, -0.34...      3            36   \n",
       "5182  [-0.005, 0.035, -0.045, 0.045, 0.015, -0.035, ...      3            36   \n",
       "5183  [-0.375, -0.395, -0.355, -0.395, -0.385, -0.36...      3            36   \n",
       "\n",
       "      n_chunk  \n",
       "0           1  \n",
       "1           2  \n",
       "2           3  \n",
       "3           4  \n",
       "4           5  \n",
       "...       ...  \n",
       "5179       28  \n",
       "5180       29  \n",
       "5181       30  \n",
       "5182       31  \n",
       "5183       32  \n",
       "\n",
       "[5184 rows x 4 columns]"
      ]
     },
     "execution_count": 3,
     "metadata": {},
     "output_type": "execute_result"
    }
   ],
   "source": [
    "ecg_data = load_ecg_data()\n",
    "\n",
    "df_ecg_data = pd.DataFrame(ecg_data)\n",
    "df_ecg_data "
   ]
  },
  {
   "cell_type": "markdown",
   "metadata": {},
   "source": [
    "We are going to visualize one ECG from our dataset. First we are going to create a sample array. Since we know that the sample frequency was 128 hertz, we can create an array of length 2000 with 1/128 intervals."
   ]
  },
  {
   "cell_type": "code",
   "execution_count": 4,
   "metadata": {},
   "outputs": [
    {
     "data": {
      "image/png": "[encoded data removed]",
      "text/plain": [
       "<Figure size 1500x400 with 1 Axes>"
      ]
     },
     "metadata": {},
     "output_type": "display_data"
    }
   ],
   "source": [
    "t_values = np.arange(0, ECG_WINDOW * 1/F_SAMPLING, 1/F_SAMPLING)\n",
    "plt.figure(figsize=(15, 4))\n",
    "plt.plot(t_values, df_ecg_data['ecg_data'][0])\n",
    "plt.xlabel(\"Time(s)\")\n",
    "plt.ylabel(\"Voltage(mV)\")\n",
    "plt.show()"
   ]
  },
  {
   "cell_type": "markdown",
   "metadata": {},
   "source": [
    "And there we have our ECG sample plotted. Now onto the tasks."
   ]
  },
  {
   "cell_type": "markdown",
   "metadata": {},
   "source": [
    "### __Task 1: Measuring the Heart rate from ECG signals.__\n",
    "\n",
    "For this task take only ECG samples number 1 and 36 with the label NSR (normal sinus rhythm). For each of the two ECG examples divide the signal into windows of 2000 samples without overlapping. The remaining samples at the end of the file can be discarded."
   ]
  },
  {
   "cell_type": "code",
   "execution_count": 5,
   "metadata": {},
   "outputs": [
    {
     "data": {
      "text/html": [
       "<div>\n",
       "<style scoped>\n",
       "    .dataframe tbody tr th:only-of-type {\n",
       "        vertical-align: middle;\n",
       "    }\n",
       "\n",
       "    .dataframe tbody tr th {\n",
       "        vertical-align: top;\n",
       "    }\n",
       "\n",
       "    .dataframe thead th {\n",
       "        text-align: right;\n",
       "    }\n",
       "</style>\n",
       "<table border=\"1\" class=\"dataframe\">\n",
       "  <thead>\n",
       "    <tr style=\"text-align: right;\">\n",
       "      <th></th>\n",
       "      <th>ecg_data</th>\n",
       "      <th>class</th>\n",
       "      <th>sampled_from</th>\n",
       "      <th>n_chunk</th>\n",
       "    </tr>\n",
       "  </thead>\n",
       "  <tbody>\n",
       "    <tr>\n",
       "      <th>4032</th>\n",
       "      <td>[-0.165, -0.155, -0.195, -0.205, -0.185, -0.15...</td>\n",
       "      <td>3</td>\n",
       "      <td>1</td>\n",
       "      <td>1</td>\n",
       "    </tr>\n",
       "    <tr>\n",
       "      <th>4033</th>\n",
       "      <td>[-0.175, -0.175, -0.175, -0.175, -0.215, -0.18...</td>\n",
       "      <td>3</td>\n",
       "      <td>1</td>\n",
       "      <td>2</td>\n",
       "    </tr>\n",
       "    <tr>\n",
       "      <th>4034</th>\n",
       "      <td>[2.235, 2.705, 2.525, 1.205, -0.255, -0.405, -...</td>\n",
       "      <td>3</td>\n",
       "      <td>1</td>\n",
       "      <td>3</td>\n",
       "    </tr>\n",
       "    <tr>\n",
       "      <th>4035</th>\n",
       "      <td>[-0.095, -0.105, -0.115, -0.105, -0.095, -0.08...</td>\n",
       "      <td>3</td>\n",
       "      <td>1</td>\n",
       "      <td>4</td>\n",
       "    </tr>\n",
       "    <tr>\n",
       "      <th>4036</th>\n",
       "      <td>[-0.125, -0.145, -0.165, -0.125, -0.065, -0.10...</td>\n",
       "      <td>3</td>\n",
       "      <td>1</td>\n",
       "      <td>5</td>\n",
       "    </tr>\n",
       "    <tr>\n",
       "      <th>...</th>\n",
       "      <td>...</td>\n",
       "      <td>...</td>\n",
       "      <td>...</td>\n",
       "      <td>...</td>\n",
       "    </tr>\n",
       "    <tr>\n",
       "      <th>5179</th>\n",
       "      <td>[-0.265, -0.265, -0.265, -0.185, -0.085, 0.275...</td>\n",
       "      <td>3</td>\n",
       "      <td>36</td>\n",
       "      <td>28</td>\n",
       "    </tr>\n",
       "    <tr>\n",
       "      <th>5180</th>\n",
       "      <td>[0.065, 0.055, 0.135, 0.225, 0.275, 0.325, 0.3...</td>\n",
       "      <td>3</td>\n",
       "      <td>36</td>\n",
       "      <td>29</td>\n",
       "    </tr>\n",
       "    <tr>\n",
       "      <th>5181</th>\n",
       "      <td>[-0.345, -0.365, -0.355, -0.355, -0.375, -0.34...</td>\n",
       "      <td>3</td>\n",
       "      <td>36</td>\n",
       "      <td>30</td>\n",
       "    </tr>\n",
       "    <tr>\n",
       "      <th>5182</th>\n",
       "      <td>[-0.005, 0.035, -0.045, 0.045, 0.015, -0.035, ...</td>\n",
       "      <td>3</td>\n",
       "      <td>36</td>\n",
       "      <td>31</td>\n",
       "    </tr>\n",
       "    <tr>\n",
       "      <th>5183</th>\n",
       "      <td>[-0.375, -0.395, -0.355, -0.395, -0.385, -0.36...</td>\n",
       "      <td>3</td>\n",
       "      <td>36</td>\n",
       "      <td>32</td>\n",
       "    </tr>\n",
       "  </tbody>\n",
       "</table>\n",
       "<p>64 rows × 4 columns</p>\n",
       "</div>"
      ],
      "text/plain": [
       "                                               ecg_data  class  sampled_from  \\\n",
       "4032  [-0.165, -0.155, -0.195, -0.205, -0.185, -0.15...      3             1   \n",
       "4033  [-0.175, -0.175, -0.175, -0.175, -0.215, -0.18...      3             1   \n",
       "4034  [2.235, 2.705, 2.525, 1.205, -0.255, -0.405, -...      3             1   \n",
       "4035  [-0.095, -0.105, -0.115, -0.105, -0.095, -0.08...      3             1   \n",
       "4036  [-0.125, -0.145, -0.165, -0.125, -0.065, -0.10...      3             1   \n",
       "...                                                 ...    ...           ...   \n",
       "5179  [-0.265, -0.265, -0.265, -0.185, -0.085, 0.275...      3            36   \n",
       "5180  [0.065, 0.055, 0.135, 0.225, 0.275, 0.325, 0.3...      3            36   \n",
       "5181  [-0.345, -0.365, -0.355, -0.355, -0.375, -0.34...      3            36   \n",
       "5182  [-0.005, 0.035, -0.045, 0.045, 0.015, -0.035, ...      3            36   \n",
       "5183  [-0.375, -0.395, -0.355, -0.395, -0.385, -0.36...      3            36   \n",
       "\n",
       "      n_chunk  \n",
       "4032        1  \n",
       "4033        2  \n",
       "4034        3  \n",
       "4035        4  \n",
       "4036        5  \n",
       "...       ...  \n",
       "5179       28  \n",
       "5180       29  \n",
       "5181       30  \n",
       "5182       31  \n",
       "5183       32  \n",
       "\n",
       "[64 rows x 4 columns]"
      ]
     },
     "execution_count": 5,
     "metadata": {},
     "output_type": "execute_result"
    }
   ],
   "source": [
    "# Taking the sample 1 and 36 from the NSR\n",
    "df_ex1 = df_ecg_data[(df_ecg_data['class'] == 3) & ((df_ecg_data['sampled_from'] == 1) | (df_ecg_data['sampled_from'] == 36))]\n",
    "df_ex1\n"
   ]
  },
  {
   "cell_type": "markdown",
   "metadata": {},
   "source": [
    "The goal is to obtain the average heart rate for each of the windows considered using for this the analysis of the FFT (Fast Fourier Transform).\n",
    "We can assume that each ECG sample is provided by two different persons. Therefore, plot an histogram for the average heart rate of the windows for each ECG separately.\n",
    "Include an analysis of your method and comment your results."
   ]
  },
  {
   "cell_type": "code",
   "execution_count": 6,
   "metadata": {},
   "outputs": [
    {
     "data": {
      "text/plain": [
       "(64, 2000)"
      ]
     },
     "execution_count": 6,
     "metadata": {},
     "output_type": "execute_result"
    }
   ],
   "source": [
    "ft = df_ex1['ecg_data'].apply(lambda x: fftshift(fft(x)))\n",
    "freq = df_ex1['ecg_data'].apply(lambda x: fftshift(fftfreq(x.shape[-1])))\n",
    "\n",
    "# stack squeezes the dimensions of each entry in the pandas series. If we \n",
    "# have an array of N entries, each of one with an array of M values, this \n",
    "# operation will squeeze it to a matrix of N*M\n",
    "np.stack(ft.values).shape"
   ]
  },
  {
   "cell_type": "code",
   "execution_count": 7,
   "metadata": {},
   "outputs": [
    {
     "data": {
      "text/plain": [
       "(64, 2000)"
      ]
     },
     "execution_count": 7,
     "metadata": {},
     "output_type": "execute_result"
    }
   ],
   "source": [
    "# we remain with the positive frequencies\n",
    "halve_array = lambda x: x[int(len(x)/2):]\n",
    "\n",
    "# apply the FFT to each of the 2000 windows\n",
    "ft = np.stack(df_ex1['ecg_data'].apply(lambda x: fftshift(fft(x))).values)\n",
    "freq = np.stack(df_ex1['ecg_data'].apply(lambda x: fftshift(fftfreq(x.shape[-1]))).values)\n",
    "\n",
    "freq.shape"
   ]
  },
  {
   "cell_type": "markdown",
   "metadata": {},
   "source": [
    "Now, as we can see, the fft function of python gives us the whole range of frequencies (positives and negatives) normalized between $-1/2 \\geq f \\geq 1/2$. Since we only want the positive range of the frequencies, we are going to halve both the values of the fourier transform (`ft`) and the frequency index (`freq`) arrays."
   ]
  },
  {
   "cell_type": "code",
   "execution_count": 8,
   "metadata": {},
   "outputs": [],
   "source": [
    "# we only get the positive frequencies\n",
    "ft_positive = np.apply_along_axis(halve_array, axis=1, arr=ft)\n",
    "freq_positive = np.apply_along_axis(halve_array, axis=1, arr=freq)"
   ]
  },
  {
   "cell_type": "code",
   "execution_count": 9,
   "metadata": {},
   "outputs": [
    {
     "data": {
      "image/png": "[encoded data removed]",
      "text/plain": [
       "<Figure size 1500x600 with 1 Axes>"
      ]
     },
     "metadata": {},
     "output_type": "display_data"
    }
   ],
   "source": [
    "sample=1\n",
    "\n",
    "ft_sample = abs(np.array(ft_positive)[sample].real)\n",
    "freq = np.array(freq_positive)[sample]\n",
    "\n",
    "\n",
    "plt.figure(figsize=(15, 6))\n",
    "plt.plot(freq, ft_sample)\n",
    "plt.xlabel('Frequency normalized (Hz)')\n",
    "plt.ylabel('|H(e^jw)|')\n",
    "plt.show()"
   ]
  },
  {
   "cell_type": "markdown",
   "metadata": {},
   "source": [
    "Now, we have only the positive range of values of our fourier transform.\n",
    "\n",
    "We have another issue with this dataset, and it is the fact that, from the fourier transform, we only get the normalized frequencies, but our dataset was collected by sampling with a frequency of 128 Hz.\n",
    "\n",
    "Following the Nyquist sampling theorem, a optimum frequency sample should follow the formula:\n",
    "\n",
    "$$\n",
    "f_s \\geq 2 * f_{max}\n",
    "$$\n",
    "\n",
    "If we suppose that the frequency of sampling for this dataset follows this theorem, and $f_s=128$, then, the $f_{max}$ should be equal to 64. This means that, the higher frequency of the ECG, would suposedly be 64 Hz, and from that point, we could infer the rest of the frequencies from the normalized scale to the original one. Once we have done this, we convert the frequencies to BPM (by multiplying by 60, since 1hz -> 60BPM) and we would obtain our frequencies in the BPM domain."
   ]
  },
  {
   "cell_type": "code",
   "execution_count": 10,
   "metadata": {},
   "outputs": [
    {
     "name": "stdout",
     "output_type": "stream",
     "text": [
      "39.972527500541936\n",
      "[ 50  72 100 122 151]\n",
      "13.32417583351398\n",
      "[ 23  50  72 100 122]\n",
      "0.064\n",
      "88.32\n"
     ]
    }
   ],
   "source": [
    "\n",
    "HEIGHT=max(ft_sample)*0.30\n",
    "print(HEIGHT)\n",
    "peaks, _ = find_peaks(ft_sample, height=HEIGHT, distance=15)\n",
    "print(peaks[0:5])\n",
    "\n",
    "if peaks[0]>=45:                # Si la distancia entre picos es muy grande es que el umbral esta por encima de un pico por lo que se baja el umbral\n",
    "    HEIGHT=max(ft_sample)*0.10\n",
    "    print(HEIGHT)\n",
    "    peaks, _ = find_peaks(ft_sample, height=HEIGHT, distance=20)\n",
    "    print(peaks[0:5])\n",
    "\n",
    "if peaks[0]<=20:                # Si la distancia entre picos es muy pequeña es que se estan detectando dos picos seguidos por lo que se aumenta la distancia entre picos\n",
    "    peaks, _ = find_peaks(ft_sample, height=HEIGHT, distance=40)\n",
    "    print(peaks[0:5])\n",
    "\n",
    "frec=64/1000   # regla de tres si 0.5Hz normalizados => 64Hz (T Nyquist) => 1000 muestras\n",
    "                #                                       BPS              => peaks[0] muestras\n",
    "print(frec)\n",
    "\n",
    "BPM=peaks[0]*frec*60    # peaks[0]*frec (BPS) x 60 = BPM\n",
    "print(BPM)"
   ]
  },
  {
   "cell_type": "code",
   "execution_count": 11,
   "metadata": {},
   "outputs": [
    {
     "data": {
      "text/plain": [
       "array([100,   0,  50,  72, 101])"
      ]
     },
     "execution_count": 11,
     "metadata": {},
     "output_type": "execute_result"
    }
   ],
   "source": [
    "# we order the frequencies depending on the highest value the fourier transform has\n",
    "top_frequencies_idx = np.argsort(ft_sample)[::-1]\n",
    "top_frequencies_idx[:N_TOP_FREQ]"
   ]
  },
  {
   "cell_type": "code",
   "execution_count": 12,
   "metadata": {},
   "outputs": [
    {
     "data": {
      "text/plain": [
       "array([0.05  , 0.    , 0.025 , 0.036 , 0.0505])"
      ]
     },
     "execution_count": 12,
     "metadata": {},
     "output_type": "execute_result"
    }
   ],
   "source": [
    "# we get the indices of the \n",
    "top_frequencies = freq[top_frequencies_idx[:N_TOP_FREQ]]\n",
    "top_frequencies"
   ]
  },
  {
   "cell_type": "code",
   "execution_count": 13,
   "metadata": {},
   "outputs": [
    {
     "data": {
      "text/plain": [
       "array([384.38438438,   0.        , 192.19219219, 276.75675676,\n",
       "       388.22822823])"
      ]
     },
     "execution_count": 13,
     "metadata": {},
     "output_type": "execute_result"
    }
   ],
   "source": [
    "frequencies_converted = (top_frequencies/freq[-1]*F_MAX)*BPM_2_1HZ\n",
    "frequencies_converted"
   ]
  },
  {
   "cell_type": "code",
   "execution_count": 14,
   "metadata": {},
   "outputs": [
    {
     "name": "stdout",
     "output_type": "stream",
     "text": [
      "[ 96.    88.32  96.    96.    96.    96.    96.    96.    96.    96.\n",
      "  96.    96.    96.    92.16  92.16  92.16  92.16  92.16  92.16 111.36\n",
      " 111.36 107.52 107.52   7.68 115.2  115.2   99.84 107.52 111.36 111.36\n",
      " 115.2  126.72  65.28  69.12  11.52  65.28  65.28  11.52   7.68   7.68\n",
      "   7.68   7.68  26.88  57.6   57.6   61.44  65.28  15.36  80.64  80.64\n",
      "  69.12  65.28  61.44  61.44 126.72  61.44  69.12 126.72 138.24  46.08\n",
      "   7.68  19.2  149.76  49.92]\n"
     ]
    }
   ],
   "source": [
    "bpm=np.zeros(len(ft_positive))\n",
    "peaks0=np.zeros(5,)\n",
    "peaks1=np.zeros(5,)\n",
    "\n",
    "\n",
    "for i in range(len(ft_positive)):\n",
    "    ft_sample = abs(np.array(ft_positive)[i].real)\n",
    "    freq = np.array(freq_positive)[i]\n",
    "    \n",
    "    HEIGHT=max(ft_sample)*0.30\n",
    "    #print(HEIGHT)\n",
    "    peaks, _ = find_peaks(ft_sample, height=HEIGHT, distance=15)\n",
    "    peaks0=peaks[0:5]\n",
    "    #print(peaks[0:5])\n",
    "    if peaks[0]>=45:\n",
    "        HEIGHT=max(ft_sample)*0.10\n",
    "        #print(HEIGHT)\n",
    "        peaks, _ = find_peaks(ft_sample, height=HEIGHT, distance=20)\n",
    "        #print(peaks[0:5])\n",
    "        peaks0=peaks[0:5]\n",
    "        peaks1=peaks[0:5]\n",
    "\n",
    "    if peaks[0]<=20:\n",
    "        peaks, _ = find_peaks(ft_sample, height=HEIGHT, distance=40)\n",
    "        #print(peaks[0:5])\n",
    "        peaks1=peaks[0:5]\n",
    "\n",
    "    frec=64/1000\n",
    "    \n",
    "\n",
    "    #print(frec)\n",
    "    if (peaks1[0]<=20):\n",
    "        BPM=peaks0[0]*frec*60\n",
    "          \n",
    "    else:\n",
    "        BPM=peaks1[0]*frec*60\n",
    "\n",
    "    bpm[i]=BPM\n",
    "\n",
    "print(bpm) # 64 bpm = 32 bpm of the user 1 and 32 bpm of the user 36"
   ]
  },
  {
   "cell_type": "code",
   "execution_count": 15,
   "metadata": {},
   "outputs": [
    {
     "data": {
      "image/png": "[encoded data removed]",
      "text/plain": [
       "<Figure size 640x480 with 1 Axes>"
      ]
     },
     "metadata": {},
     "output_type": "display_data"
    },
    {
     "data": {
      "image/png": "[encoded data removed]",
      "text/plain": [
       "<Figure size 640x480 with 1 Axes>"
      ]
     },
     "metadata": {},
     "output_type": "display_data"
    }
   ],
   "source": [
    "# Histogram\n",
    "user1=bpm[0:32]\n",
    "user36=bpm[32:64]\n",
    "\n",
    "# mean\n",
    "mean1=np.mean(user1)\n",
    "mean36=np.mean(user36)\n",
    "\n",
    "# Histogram user1\n",
    "fig, ax = plt.subplots()\n",
    "ax.hist(user1, bins=20, edgecolor = \"black\", label=\"BPM\")\n",
    "ax.plot([mean1,mean1], [0,20], color = \"red\", label=\"Mean\")\n",
    "ax.legend()\n",
    "ax.set_title(\"BPM User1\")\n",
    "ax.set_xlabel('BPM')\n",
    "ax.set_ylabel('Valores')\n",
    "plt.show()\n",
    "\n",
    "# Histogram user 36\n",
    "fig, ax = plt.subplots()\n",
    "ax.hist(user36, bins=20, edgecolor = \"black\", label=\"BPM\")\n",
    "ax.plot([mean36,mean36], [0,20], color = \"red\", label=\"Mean\")\n",
    "ax.legend()\n",
    "ax.set_title('BPM User36')\n",
    "ax.set_xlabel('BPM')\n",
    "ax.set_ylabel('Valores')\n",
    "plt.show()\n",
    "\n"
   ]
  },
  {
   "cell_type": "markdown",
   "metadata": {},
   "source": [
    "### __Task 3: Classification of ECG signals.__\n",
    "\n",
    "* Let’s consider a balanced problem with the same number of examples per class. We will consider the first 30 ECG examples per class in this task.\n",
    "* Divide the data into training and test sets considering the first 21 examples of each class for training and the remaining 9 examples per testing.\n",
    "* Then remember that each ECG signal will be further divided into time windows with length 2000 samples without overlap. Each time window will be considered as a new example in the database.\n",
    "* The objective of this task is to develop a system to automatically classify between the three types of ECG signals in the database. The measure to maximize is the accuracy."
   ]
  },
  {
   "cell_type": "code",
   "execution_count": 16,
   "metadata": {},
   "outputs": [],
   "source": [
    "ecg_data = load_ecg_data()\n",
    "df_ecg_data = pd.DataFrame(ecg_data)"
   ]
  },
  {
   "cell_type": "markdown",
   "metadata": {},
   "source": [
    "#### Feature extraction\n",
    "\n",
    "We are going to extract some features from our dataset. In our case, we opted for using the FFT, the DCT over the FFT and some local and global features such as:\n",
    "* Local Features: first derivatives and second derivatives\n",
    "* Global Features: Avg distance between peaks or number of heartbeats"
   ]
  },
  {
   "cell_type": "markdown",
   "metadata": {},
   "source": [
    "__Local Features extraction__: First derivatives and second derivatives"
   ]
  },
  {
   "cell_type": "code",
   "execution_count": 17,
   "metadata": {},
   "outputs": [],
   "source": [
    "df_ecg_data['deriv1'] = df_ecg_data['ecg_data'].apply(lambda x: np.gradient(np.array(x)))\n",
    "df_ecg_data['deriv2'] = df_ecg_data['deriv1'].apply(lambda x: np.gradient(np.array(x)))"
   ]
  },
  {
   "cell_type": "markdown",
   "metadata": {},
   "source": [
    "__Global Features extraction__: Avg distance between peaks and number of heartbeats"
   ]
  },
  {
   "cell_type": "code",
   "execution_count": 18,
   "metadata": {},
   "outputs": [],
   "source": [
    "from sklearn.preprocessing import StandardScaler\n",
    "\n",
    "stacked_data = np.stack(df_ecg_data['ecg_data'])\n",
    "\n",
    "scaler = StandardScaler()\n",
    "scaler.fit(stacked_data)\n",
    "stacked_data_t = scaler.transform(stacked_data)"
   ]
  },
  {
   "cell_type": "code",
   "execution_count": 19,
   "metadata": {},
   "outputs": [],
   "source": [
    "from feature_extraction import avg_d_between_peaks, std_d_between_peaks, compute_bpm, compute_std_bpm, compute_max_bpm, compute_min_bpm\n",
    "\n",
    "avg_d = np.apply_along_axis(avg_d_between_peaks, 1, stacked_data_t)\n",
    "std_d = np.apply_along_axis(std_d_between_peaks, 1, stacked_data_t)\n",
    "avg_bpm = np.apply_along_axis(compute_bpm, 1, stacked_data_t)\n",
    "std_bpm = np.apply_along_axis(compute_std_bpm, 1, stacked_data_t)\n",
    "max_bpm = np.apply_along_axis(compute_max_bpm, 1, stacked_data_t)\n",
    "min_bpm = np.apply_along_axis(compute_min_bpm, 1, stacked_data_t)\n",
    "\n",
    "df_ecg_data['avg_d_peaks'] = avg_d\n",
    "df_ecg_data['std_d_peaks'] = std_d\n",
    "df_ecg_data['avg_bpm'] = avg_bpm\n",
    "df_ecg_data['std_bpm'] = std_bpm\n",
    "df_ecg_data['max_bpm'] = max_bpm\n",
    "df_ecg_data['min_bpm'] = min_bpm"
   ]
  },
  {
   "cell_type": "code",
   "execution_count": 20,
   "metadata": {},
   "outputs": [
    {
     "data": {
      "text/html": [
       "<div>\n",
       "<style scoped>\n",
       "    .dataframe tbody tr th:only-of-type {\n",
       "        vertical-align: middle;\n",
       "    }\n",
       "\n",
       "    .dataframe tbody tr th {\n",
       "        vertical-align: top;\n",
       "    }\n",
       "\n",
       "    .dataframe thead th {\n",
       "        text-align: right;\n",
       "    }\n",
       "</style>\n",
       "<table border=\"1\" class=\"dataframe\">\n",
       "  <thead>\n",
       "    <tr style=\"text-align: right;\">\n",
       "      <th></th>\n",
       "      <th>ecg_data</th>\n",
       "      <th>class</th>\n",
       "      <th>sampled_from</th>\n",
       "      <th>n_chunk</th>\n",
       "      <th>deriv1</th>\n",
       "      <th>deriv2</th>\n",
       "      <th>avg_d_peaks</th>\n",
       "      <th>std_d_peaks</th>\n",
       "      <th>avg_bpm</th>\n",
       "      <th>std_bpm</th>\n",
       "      <th>max_bpm</th>\n",
       "      <th>min_bpm</th>\n",
       "    </tr>\n",
       "  </thead>\n",
       "  <tbody>\n",
       "    <tr>\n",
       "      <th>284</th>\n",
       "      <td>[-1.0662847235264512, -1.0309784560564395, -1....</td>\n",
       "      <td>1</td>\n",
       "      <td>9</td>\n",
       "      <td>29</td>\n",
       "      <td>[0.035306267470011754, 0.014066313509724204, -...</td>\n",
       "      <td>[-0.02123995396028755, -0.021985976017364184, ...</td>\n",
       "      <td>NaN</td>\n",
       "      <td>NaN</td>\n",
       "      <td>NaN</td>\n",
       "      <td>NaN</td>\n",
       "      <td>NaN</td>\n",
       "      <td>NaN</td>\n",
       "    </tr>\n",
       "    <tr>\n",
       "      <th>615</th>\n",
       "      <td>[-0.35306386911786447, -0.3534806814825913, -0...</td>\n",
       "      <td>1</td>\n",
       "      <td>20</td>\n",
       "      <td>8</td>\n",
       "      <td>[-0.00041681236472684846, 0.009831688078735107...</td>\n",
       "      <td>[0.010248500443461955, -0.01052156999218841, -...</td>\n",
       "      <td>NaN</td>\n",
       "      <td>NaN</td>\n",
       "      <td>NaN</td>\n",
       "      <td>NaN</td>\n",
       "      <td>NaN</td>\n",
       "      <td>NaN</td>\n",
       "    </tr>\n",
       "    <tr>\n",
       "      <th>689</th>\n",
       "      <td>[-0.06535958358140768, -0.020601499800116285, ...</td>\n",
       "      <td>1</td>\n",
       "      <td>22</td>\n",
       "      <td>18</td>\n",
       "      <td>[0.0447580837812914, 0.02524105334887101, 0.01...</td>\n",
       "      <td>[-0.019517030432420385, -0.01389549396888979, ...</td>\n",
       "      <td>NaN</td>\n",
       "      <td>NaN</td>\n",
       "      <td>NaN</td>\n",
       "      <td>NaN</td>\n",
       "      <td>NaN</td>\n",
       "      <td>NaN</td>\n",
       "    </tr>\n",
       "    <tr>\n",
       "      <th>698</th>\n",
       "      <td>[0.015763687778235974, 0.004570186342316302, -...</td>\n",
       "      <td>1</td>\n",
       "      <td>22</td>\n",
       "      <td>27</td>\n",
       "      <td>[-0.011193501435919672, -0.026332662590596398,...</td>\n",
       "      <td>[-0.015139161154676726, -0.007598680044177543,...</td>\n",
       "      <td>NaN</td>\n",
       "      <td>NaN</td>\n",
       "      <td>NaN</td>\n",
       "      <td>NaN</td>\n",
       "      <td>NaN</td>\n",
       "      <td>NaN</td>\n",
       "    </tr>\n",
       "    <tr>\n",
       "      <th>700</th>\n",
       "      <td>[-0.20523783375186522, -0.21692920708203706, -...</td>\n",
       "      <td>1</td>\n",
       "      <td>22</td>\n",
       "      <td>29</td>\n",
       "      <td>[-0.01169137333017184, -0.0012903085596754627,...</td>\n",
       "      <td>[0.010401064770496377, 0.003754522633824371, 0...</td>\n",
       "      <td>NaN</td>\n",
       "      <td>NaN</td>\n",
       "      <td>NaN</td>\n",
       "      <td>NaN</td>\n",
       "      <td>NaN</td>\n",
       "      <td>NaN</td>\n",
       "    </tr>\n",
       "    <tr>\n",
       "      <th>...</th>\n",
       "      <td>...</td>\n",
       "      <td>...</td>\n",
       "      <td>...</td>\n",
       "      <td>...</td>\n",
       "      <td>...</td>\n",
       "      <td>...</td>\n",
       "      <td>...</td>\n",
       "      <td>...</td>\n",
       "      <td>...</td>\n",
       "      <td>...</td>\n",
       "      <td>...</td>\n",
       "      <td>...</td>\n",
       "    </tr>\n",
       "    <tr>\n",
       "      <th>4003</th>\n",
       "      <td>[-0.8385836676884582, -0.8618173636519676, -0....</td>\n",
       "      <td>2</td>\n",
       "      <td>30</td>\n",
       "      <td>4</td>\n",
       "      <td>[-0.023233695963509438, 0.006395170470559042, ...</td>\n",
       "      <td>[0.02962886643406848, 0.010756855468702364, -0...</td>\n",
       "      <td>NaN</td>\n",
       "      <td>NaN</td>\n",
       "      <td>NaN</td>\n",
       "      <td>NaN</td>\n",
       "      <td>NaN</td>\n",
       "      <td>NaN</td>\n",
       "    </tr>\n",
       "    <tr>\n",
       "      <th>4004</th>\n",
       "      <td>[-0.2195897445696414, 0.6412007206669135, 1.07...</td>\n",
       "      <td>2</td>\n",
       "      <td>30</td>\n",
       "      <td>5</td>\n",
       "      <td>[0.8607904652365549, 0.6483540194648197, -0.14...</td>\n",
       "      <td>[-0.21243644577173515, -0.5045516737018101, -0...</td>\n",
       "      <td>NaN</td>\n",
       "      <td>NaN</td>\n",
       "      <td>NaN</td>\n",
       "      <td>NaN</td>\n",
       "      <td>NaN</td>\n",
       "      <td>NaN</td>\n",
       "    </tr>\n",
       "    <tr>\n",
       "      <th>4493</th>\n",
       "      <td>[-0.275, -0.265, -0.235, -0.225, -0.225, -0.22...</td>\n",
       "      <td>3</td>\n",
       "      <td>15</td>\n",
       "      <td>14</td>\n",
       "      <td>[0.010000000000000009, 0.020000000000000018, 0...</td>\n",
       "      <td>[0.010000000000000009, 0.0049999999999999975, ...</td>\n",
       "      <td>NaN</td>\n",
       "      <td>NaN</td>\n",
       "      <td>NaN</td>\n",
       "      <td>NaN</td>\n",
       "      <td>NaN</td>\n",
       "      <td>NaN</td>\n",
       "    </tr>\n",
       "    <tr>\n",
       "      <th>4494</th>\n",
       "      <td>[-0.345, -0.355, -0.355, -0.345, -0.345, -0.33...</td>\n",
       "      <td>3</td>\n",
       "      <td>15</td>\n",
       "      <td>15</td>\n",
       "      <td>[-0.010000000000000009, -0.0050000000000000044...</td>\n",
       "      <td>[0.0050000000000000044, 0.007500000000000007, ...</td>\n",
       "      <td>NaN</td>\n",
       "      <td>NaN</td>\n",
       "      <td>NaN</td>\n",
       "      <td>NaN</td>\n",
       "      <td>NaN</td>\n",
       "      <td>NaN</td>\n",
       "    </tr>\n",
       "    <tr>\n",
       "      <th>4495</th>\n",
       "      <td>[-0.055, -0.075, -0.025, -0.045, 0.005, -0.005...</td>\n",
       "      <td>3</td>\n",
       "      <td>15</td>\n",
       "      <td>16</td>\n",
       "      <td>[-0.019999999999999997, 0.015, 0.015, 0.015000...</td>\n",
       "      <td>[0.034999999999999996, 0.017499999999999998, 8...</td>\n",
       "      <td>NaN</td>\n",
       "      <td>NaN</td>\n",
       "      <td>NaN</td>\n",
       "      <td>NaN</td>\n",
       "      <td>NaN</td>\n",
       "      <td>NaN</td>\n",
       "    </tr>\n",
       "  </tbody>\n",
       "</table>\n",
       "<p>94 rows × 12 columns</p>\n",
       "</div>"
      ],
      "text/plain": [
       "                                               ecg_data  class  sampled_from  \\\n",
       "284   [-1.0662847235264512, -1.0309784560564395, -1....      1             9   \n",
       "615   [-0.35306386911786447, -0.3534806814825913, -0...      1            20   \n",
       "689   [-0.06535958358140768, -0.020601499800116285, ...      1            22   \n",
       "698   [0.015763687778235974, 0.004570186342316302, -...      1            22   \n",
       "700   [-0.20523783375186522, -0.21692920708203706, -...      1            22   \n",
       "...                                                 ...    ...           ...   \n",
       "4003  [-0.8385836676884582, -0.8618173636519676, -0....      2            30   \n",
       "4004  [-0.2195897445696414, 0.6412007206669135, 1.07...      2            30   \n",
       "4493  [-0.275, -0.265, -0.235, -0.225, -0.225, -0.22...      3            15   \n",
       "4494  [-0.345, -0.355, -0.355, -0.345, -0.345, -0.33...      3            15   \n",
       "4495  [-0.055, -0.075, -0.025, -0.045, 0.005, -0.005...      3            15   \n",
       "\n",
       "      n_chunk                                             deriv1  \\\n",
       "284        29  [0.035306267470011754, 0.014066313509724204, -...   \n",
       "615         8  [-0.00041681236472684846, 0.009831688078735107...   \n",
       "689        18  [0.0447580837812914, 0.02524105334887101, 0.01...   \n",
       "698        27  [-0.011193501435919672, -0.026332662590596398,...   \n",
       "700        29  [-0.01169137333017184, -0.0012903085596754627,...   \n",
       "...       ...                                                ...   \n",
       "4003        4  [-0.023233695963509438, 0.006395170470559042, ...   \n",
       "4004        5  [0.8607904652365549, 0.6483540194648197, -0.14...   \n",
       "4493       14  [0.010000000000000009, 0.020000000000000018, 0...   \n",
       "4494       15  [-0.010000000000000009, -0.0050000000000000044...   \n",
       "4495       16  [-0.019999999999999997, 0.015, 0.015, 0.015000...   \n",
       "\n",
       "                                                 deriv2  avg_d_peaks  \\\n",
       "284   [-0.02123995396028755, -0.021985976017364184, ...          NaN   \n",
       "615   [0.010248500443461955, -0.01052156999218841, -...          NaN   \n",
       "689   [-0.019517030432420385, -0.01389549396888979, ...          NaN   \n",
       "698   [-0.015139161154676726, -0.007598680044177543,...          NaN   \n",
       "700   [0.010401064770496377, 0.003754522633824371, 0...          NaN   \n",
       "...                                                 ...          ...   \n",
       "4003  [0.02962886643406848, 0.010756855468702364, -0...          NaN   \n",
       "4004  [-0.21243644577173515, -0.5045516737018101, -0...          NaN   \n",
       "4493  [0.010000000000000009, 0.0049999999999999975, ...          NaN   \n",
       "4494  [0.0050000000000000044, 0.007500000000000007, ...          NaN   \n",
       "4495  [0.034999999999999996, 0.017499999999999998, 8...          NaN   \n",
       "\n",
       "      std_d_peaks  avg_bpm  std_bpm  max_bpm  min_bpm  \n",
       "284           NaN      NaN      NaN      NaN      NaN  \n",
       "615           NaN      NaN      NaN      NaN      NaN  \n",
       "689           NaN      NaN      NaN      NaN      NaN  \n",
       "698           NaN      NaN      NaN      NaN      NaN  \n",
       "700           NaN      NaN      NaN      NaN      NaN  \n",
       "...           ...      ...      ...      ...      ...  \n",
       "4003          NaN      NaN      NaN      NaN      NaN  \n",
       "4004          NaN      NaN      NaN      NaN      NaN  \n",
       "4493          NaN      NaN      NaN      NaN      NaN  \n",
       "4494          NaN      NaN      NaN      NaN      NaN  \n",
       "4495          NaN      NaN      NaN      NaN      NaN  \n",
       "\n",
       "[94 rows x 12 columns]"
      ]
     },
     "execution_count": 20,
     "metadata": {},
     "output_type": "execute_result"
    }
   ],
   "source": [
    "df_ecg_data[df_ecg_data['avg_bpm'].isna()]"
   ]
  },
  {
   "cell_type": "markdown",
   "metadata": {},
   "source": [
    "As we commented in the code above, there is going to appear some nan's caused by the topology of some samples, where there are one or none peaks detected, and we cannot compute the RR distances and the BPMs of each sample. In order to fill this nan's, we will use the mean for each class, to not affect the distribution."
   ]
  },
  {
   "cell_type": "code",
   "execution_count": 21,
   "metadata": {},
   "outputs": [
    {
     "data": {
      "text/html": [
       "<div>\n",
       "<style scoped>\n",
       "    .dataframe tbody tr th:only-of-type {\n",
       "        vertical-align: middle;\n",
       "    }\n",
       "\n",
       "    .dataframe tbody tr th {\n",
       "        vertical-align: top;\n",
       "    }\n",
       "\n",
       "    .dataframe thead th {\n",
       "        text-align: right;\n",
       "    }\n",
       "</style>\n",
       "<table border=\"1\" class=\"dataframe\">\n",
       "  <thead>\n",
       "    <tr style=\"text-align: right;\">\n",
       "      <th></th>\n",
       "      <th>ecg_data</th>\n",
       "      <th>class</th>\n",
       "      <th>sampled_from</th>\n",
       "      <th>n_chunk</th>\n",
       "      <th>deriv1</th>\n",
       "      <th>deriv2</th>\n",
       "      <th>avg_d_peaks</th>\n",
       "      <th>std_d_peaks</th>\n",
       "      <th>avg_bpm</th>\n",
       "      <th>std_bpm</th>\n",
       "      <th>max_bpm</th>\n",
       "      <th>min_bpm</th>\n",
       "    </tr>\n",
       "  </thead>\n",
       "  <tbody>\n",
       "    <tr>\n",
       "      <th>0</th>\n",
       "      <td>[-0.09785730141312626, -0.15688125766870917, -...</td>\n",
       "      <td>1</td>\n",
       "      <td>1</td>\n",
       "      <td>1</td>\n",
       "      <td>[-0.059023956255582904, -0.019979427765969324,...</td>\n",
       "      <td>[0.03904452848961358, 0.0344381041616524, 0.00...</td>\n",
       "      <td>103.944444</td>\n",
       "      <td>2.717683</td>\n",
       "      <td>73.885623</td>\n",
       "      <td>1.922435</td>\n",
       "      <td>77.575758</td>\n",
       "      <td>69.818182</td>\n",
       "    </tr>\n",
       "    <tr>\n",
       "      <th>1</th>\n",
       "      <td>[-0.3484112418649029, -0.02274587725720959, 0....</td>\n",
       "      <td>1</td>\n",
       "      <td>1</td>\n",
       "      <td>2</td>\n",
       "      <td>[0.3256653646076933, 0.4678561896988175, 0.493...</td>\n",
       "      <td>[0.14219082509112418, 0.08400456235294218, -0....</td>\n",
       "      <td>103.631579</td>\n",
       "      <td>3.029861</td>\n",
       "      <td>74.108685</td>\n",
       "      <td>2.152329</td>\n",
       "      <td>77.575758</td>\n",
       "      <td>69.818182</td>\n",
       "    </tr>\n",
       "    <tr>\n",
       "      <th>2</th>\n",
       "      <td>[-0.4360649375168176, -0.4460280919950408, -0....</td>\n",
       "      <td>1</td>\n",
       "      <td>1</td>\n",
       "      <td>3</td>\n",
       "      <td>[-0.009963154478223213, -0.006462586527347575,...</td>\n",
       "      <td>[0.003500567950875638, 0.004696099230614967, 0...</td>\n",
       "      <td>103.666667</td>\n",
       "      <td>2.494438</td>\n",
       "      <td>74.083601</td>\n",
       "      <td>1.779547</td>\n",
       "      <td>76.800000</td>\n",
       "      <td>71.111111</td>\n",
       "    </tr>\n",
       "    <tr>\n",
       "      <th>3</th>\n",
       "      <td>[-0.38340009514361517, -0.38383578522187806, -...</td>\n",
       "      <td>1</td>\n",
       "      <td>1</td>\n",
       "      <td>4</td>\n",
       "      <td>[-0.00043569007826288475, 0.011976453998027381...</td>\n",
       "      <td>[0.012412144076290266, 0.005613563976551134, -...</td>\n",
       "      <td>103.944444</td>\n",
       "      <td>3.170563</td>\n",
       "      <td>73.885623</td>\n",
       "      <td>2.232525</td>\n",
       "      <td>76.800000</td>\n",
       "      <td>69.818182</td>\n",
       "    </tr>\n",
       "    <tr>\n",
       "      <th>4</th>\n",
       "      <td>[-0.3231552247831461, -0.3163997523002529, -0....</td>\n",
       "      <td>1</td>\n",
       "      <td>1</td>\n",
       "      <td>5</td>\n",
       "      <td>[0.00675547248289321, 0.0002321741644971398, -...</td>\n",
       "      <td>[-0.00652329831839607, -0.003785852940457468, ...</td>\n",
       "      <td>102.861111</td>\n",
       "      <td>2.623640</td>\n",
       "      <td>74.663786</td>\n",
       "      <td>1.895985</td>\n",
       "      <td>78.367347</td>\n",
       "      <td>71.111111</td>\n",
       "    </tr>\n",
       "    <tr>\n",
       "      <th>...</th>\n",
       "      <td>...</td>\n",
       "      <td>...</td>\n",
       "      <td>...</td>\n",
       "      <td>...</td>\n",
       "      <td>...</td>\n",
       "      <td>...</td>\n",
       "      <td>...</td>\n",
       "      <td>...</td>\n",
       "      <td>...</td>\n",
       "      <td>...</td>\n",
       "      <td>...</td>\n",
       "      <td>...</td>\n",
       "    </tr>\n",
       "    <tr>\n",
       "      <th>5179</th>\n",
       "      <td>[-0.265, -0.265, -0.265, -0.185, -0.085, 0.275...</td>\n",
       "      <td>3</td>\n",
       "      <td>36</td>\n",
       "      <td>28</td>\n",
       "      <td>[0.0, 0.0, 0.04000000000000001, 0.09, 0.23, 0....</td>\n",
       "      <td>[0.0, 0.020000000000000004, 0.045, 0.095, 0.11...</td>\n",
       "      <td>124.218750</td>\n",
       "      <td>7.472802</td>\n",
       "      <td>61.826415</td>\n",
       "      <td>3.692136</td>\n",
       "      <td>70.458716</td>\n",
       "      <td>54.857143</td>\n",
       "    </tr>\n",
       "    <tr>\n",
       "      <th>5180</th>\n",
       "      <td>[0.065, 0.055, 0.135, 0.225, 0.275, 0.325, 0.3...</td>\n",
       "      <td>3</td>\n",
       "      <td>36</td>\n",
       "      <td>29</td>\n",
       "      <td>[-0.010000000000000002, 0.035, 0.085, 0.07, 0....</td>\n",
       "      <td>[0.045000000000000005, 0.0475, 0.0175, -0.0175...</td>\n",
       "      <td>98.275000</td>\n",
       "      <td>4.526243</td>\n",
       "      <td>78.148054</td>\n",
       "      <td>3.465110</td>\n",
       "      <td>81.702128</td>\n",
       "      <td>71.111111</td>\n",
       "    </tr>\n",
       "    <tr>\n",
       "      <th>5181</th>\n",
       "      <td>[-0.345, -0.365, -0.355, -0.355, -0.375, -0.34...</td>\n",
       "      <td>3</td>\n",
       "      <td>36</td>\n",
       "      <td>30</td>\n",
       "      <td>[-0.020000000000000018, -0.0050000000000000044...</td>\n",
       "      <td>[0.015000000000000013, 0.012500000000000011, -...</td>\n",
       "      <td>102.578947</td>\n",
       "      <td>4.464076</td>\n",
       "      <td>74.869164</td>\n",
       "      <td>3.181183</td>\n",
       "      <td>80.842105</td>\n",
       "      <td>67.368421</td>\n",
       "    </tr>\n",
       "    <tr>\n",
       "      <th>5182</th>\n",
       "      <td>[-0.005, 0.035, -0.045, 0.045, 0.015, -0.035, ...</td>\n",
       "      <td>3</td>\n",
       "      <td>36</td>\n",
       "      <td>31</td>\n",
       "      <td>[0.04, -0.02, 0.0049999999999999975, 0.03, -0....</td>\n",
       "      <td>[-0.06, -0.0175, 0.025, -0.0225, -0.0024999999...</td>\n",
       "      <td>100.263158</td>\n",
       "      <td>4.375074</td>\n",
       "      <td>76.598425</td>\n",
       "      <td>3.319600</td>\n",
       "      <td>82.580645</td>\n",
       "      <td>70.458716</td>\n",
       "    </tr>\n",
       "    <tr>\n",
       "      <th>5183</th>\n",
       "      <td>[-0.375, -0.395, -0.355, -0.395, -0.385, -0.36...</td>\n",
       "      <td>3</td>\n",
       "      <td>36</td>\n",
       "      <td>32</td>\n",
       "      <td>[-0.020000000000000018, 0.010000000000000009, ...</td>\n",
       "      <td>[0.030000000000000027, 0.010000000000000009, -...</td>\n",
       "      <td>100.105263</td>\n",
       "      <td>1.713560</td>\n",
       "      <td>76.719243</td>\n",
       "      <td>1.315115</td>\n",
       "      <td>79.175258</td>\n",
       "      <td>74.563107</td>\n",
       "    </tr>\n",
       "  </tbody>\n",
       "</table>\n",
       "<p>5184 rows × 12 columns</p>\n",
       "</div>"
      ],
      "text/plain": [
       "                                               ecg_data  class  sampled_from  \\\n",
       "0     [-0.09785730141312626, -0.15688125766870917, -...      1             1   \n",
       "1     [-0.3484112418649029, -0.02274587725720959, 0....      1             1   \n",
       "2     [-0.4360649375168176, -0.4460280919950408, -0....      1             1   \n",
       "3     [-0.38340009514361517, -0.38383578522187806, -...      1             1   \n",
       "4     [-0.3231552247831461, -0.3163997523002529, -0....      1             1   \n",
       "...                                                 ...    ...           ...   \n",
       "5179  [-0.265, -0.265, -0.265, -0.185, -0.085, 0.275...      3            36   \n",
       "5180  [0.065, 0.055, 0.135, 0.225, 0.275, 0.325, 0.3...      3            36   \n",
       "5181  [-0.345, -0.365, -0.355, -0.355, -0.375, -0.34...      3            36   \n",
       "5182  [-0.005, 0.035, -0.045, 0.045, 0.015, -0.035, ...      3            36   \n",
       "5183  [-0.375, -0.395, -0.355, -0.395, -0.385, -0.36...      3            36   \n",
       "\n",
       "      n_chunk                                             deriv1  \\\n",
       "0           1  [-0.059023956255582904, -0.019979427765969324,...   \n",
       "1           2  [0.3256653646076933, 0.4678561896988175, 0.493...   \n",
       "2           3  [-0.009963154478223213, -0.006462586527347575,...   \n",
       "3           4  [-0.00043569007826288475, 0.011976453998027381...   \n",
       "4           5  [0.00675547248289321, 0.0002321741644971398, -...   \n",
       "...       ...                                                ...   \n",
       "5179       28  [0.0, 0.0, 0.04000000000000001, 0.09, 0.23, 0....   \n",
       "5180       29  [-0.010000000000000002, 0.035, 0.085, 0.07, 0....   \n",
       "5181       30  [-0.020000000000000018, -0.0050000000000000044...   \n",
       "5182       31  [0.04, -0.02, 0.0049999999999999975, 0.03, -0....   \n",
       "5183       32  [-0.020000000000000018, 0.010000000000000009, ...   \n",
       "\n",
       "                                                 deriv2  avg_d_peaks  \\\n",
       "0     [0.03904452848961358, 0.0344381041616524, 0.00...   103.944444   \n",
       "1     [0.14219082509112418, 0.08400456235294218, -0....   103.631579   \n",
       "2     [0.003500567950875638, 0.004696099230614967, 0...   103.666667   \n",
       "3     [0.012412144076290266, 0.005613563976551134, -...   103.944444   \n",
       "4     [-0.00652329831839607, -0.003785852940457468, ...   102.861111   \n",
       "...                                                 ...          ...   \n",
       "5179  [0.0, 0.020000000000000004, 0.045, 0.095, 0.11...   124.218750   \n",
       "5180  [0.045000000000000005, 0.0475, 0.0175, -0.0175...    98.275000   \n",
       "5181  [0.015000000000000013, 0.012500000000000011, -...   102.578947   \n",
       "5182  [-0.06, -0.0175, 0.025, -0.0225, -0.0024999999...   100.263158   \n",
       "5183  [0.030000000000000027, 0.010000000000000009, -...   100.105263   \n",
       "\n",
       "      std_d_peaks    avg_bpm   std_bpm    max_bpm    min_bpm  \n",
       "0        2.717683  73.885623  1.922435  77.575758  69.818182  \n",
       "1        3.029861  74.108685  2.152329  77.575758  69.818182  \n",
       "2        2.494438  74.083601  1.779547  76.800000  71.111111  \n",
       "3        3.170563  73.885623  2.232525  76.800000  69.818182  \n",
       "4        2.623640  74.663786  1.895985  78.367347  71.111111  \n",
       "...           ...        ...       ...        ...        ...  \n",
       "5179     7.472802  61.826415  3.692136  70.458716  54.857143  \n",
       "5180     4.526243  78.148054  3.465110  81.702128  71.111111  \n",
       "5181     4.464076  74.869164  3.181183  80.842105  67.368421  \n",
       "5182     4.375074  76.598425  3.319600  82.580645  70.458716  \n",
       "5183     1.713560  76.719243  1.315115  79.175258  74.563107  \n",
       "\n",
       "[5184 rows x 12 columns]"
      ]
     },
     "execution_count": 21,
     "metadata": {},
     "output_type": "execute_result"
    }
   ],
   "source": [
    "bpm_means = df_ecg_data.groupby('class')['avg_bpm'].mean()\n",
    "bpm_std_means = df_ecg_data.groupby('class')['std_bpm'].mean()\n",
    "bpm_max_means = df_ecg_data.groupby('class')['max_bpm'].mean()\n",
    "bpm_min_means = df_ecg_data.groupby('class')['min_bpm'].mean()\n",
    "avd_d_means = df_ecg_data.groupby('class')['avg_d_peaks'].mean()\n",
    "std_d_means = df_ecg_data.groupby('class')['std_d_peaks'].mean()\n",
    "\n",
    "df_ecg_data['avg_bpm'] = df_ecg_data.apply(lambda row: bpm_means[row['class']] if pd.isna(row['avg_bpm']) else row['avg_bpm'], axis=1)\n",
    "df_ecg_data['std_bpm'] = df_ecg_data.apply(lambda row: bpm_std_means[row['class']] if pd.isna(row['std_bpm']) else row['std_bpm'], axis=1)\n",
    "df_ecg_data['max_bpm'] = df_ecg_data.apply(lambda row: bpm_max_means[row['class']] if pd.isna(row['max_bpm']) else row['max_bpm'], axis=1)\n",
    "df_ecg_data['min_bpm'] = df_ecg_data.apply(lambda row: bpm_min_means[row['class']] if pd.isna(row['min_bpm']) else row['min_bpm'], axis=1)\n",
    "df_ecg_data['avg_d_peaks'] = df_ecg_data.apply(lambda row: avd_d_means[row['class']] if pd.isna(row['avg_d_peaks']) else row['avg_d_peaks'], axis=1)\n",
    "df_ecg_data['std_d_peaks'] = df_ecg_data.apply(lambda row: std_d_means[row['class']] if pd.isna(row['std_d_peaks']) else row['std_d_peaks'], axis=1)\n",
    "df_ecg_data"
   ]
  },
  {
   "cell_type": "markdown",
   "metadata": {},
   "source": [
    "Now that we have filled all the data, we can continue with the analysis."
   ]
  },
  {
   "cell_type": "markdown",
   "metadata": {},
   "source": [
    "__FFT and DCT__"
   ]
  },
  {
   "cell_type": "code",
   "execution_count": 32,
   "metadata": {},
   "outputs": [],
   "source": [
    "df_ecg_data['fft'] = df_ecg_data['ecg_data'].apply(lambda x: fftshift(fft(x).real))\n",
    "df_ecg_data['dct'] = df_ecg_data['fft'].apply(lambda x: dct(rfft(20*np.log(np.abs(x)), n=2, norm='ortho')))\n",
    "df_ecg_data['dct_orig'] = df_ecg_data['fft'].apply(lambda x: dct(x, n=2, norm='ortho'))\n",
    "df_ecg_data['dct_1coef'] = df_ecg_data['fft'].apply(lambda x: dct(x, n=2, norm='ortho')[0])"
   ]
  },
  {
   "cell_type": "markdown",
   "metadata": {},
   "source": [
    "#### Data Splitting for our classification "
   ]
  },
  {
   "cell_type": "code",
   "execution_count": 45,
   "metadata": {},
   "outputs": [
    {
     "data": {
      "text/html": [
       "<div>\n",
       "<style scoped>\n",
       "    .dataframe tbody tr th:only-of-type {\n",
       "        vertical-align: middle;\n",
       "    }\n",
       "\n",
       "    .dataframe tbody tr th {\n",
       "        vertical-align: top;\n",
       "    }\n",
       "\n",
       "    .dataframe thead th {\n",
       "        text-align: right;\n",
       "    }\n",
       "</style>\n",
       "<table border=\"1\" class=\"dataframe\">\n",
       "  <thead>\n",
       "    <tr style=\"text-align: right;\">\n",
       "      <th></th>\n",
       "      <th>class</th>\n",
       "      <th>avg_d_peaks</th>\n",
       "      <th>std_d_peaks</th>\n",
       "      <th>avg_bpm</th>\n",
       "      <th>std_bpm</th>\n",
       "      <th>max_bpm</th>\n",
       "      <th>min_bpm</th>\n",
       "      <th>dct_1coef</th>\n",
       "    </tr>\n",
       "  </thead>\n",
       "  <tbody>\n",
       "    <tr>\n",
       "      <th>count</th>\n",
       "      <td>864.00000</td>\n",
       "      <td>864.000000</td>\n",
       "      <td>864.000000</td>\n",
       "      <td>864.000000</td>\n",
       "      <td>864.000000</td>\n",
       "      <td>864.000000</td>\n",
       "      <td>864.000000</td>\n",
       "      <td>864.000000</td>\n",
       "    </tr>\n",
       "    <tr>\n",
       "      <th>mean</th>\n",
       "      <td>2.00000</td>\n",
       "      <td>93.029643</td>\n",
       "      <td>16.595479</td>\n",
       "      <td>95.746895</td>\n",
       "      <td>13.493116</td>\n",
       "      <td>122.655867</td>\n",
       "      <td>79.347043</td>\n",
       "      <td>-0.103839</td>\n",
       "    </tr>\n",
       "    <tr>\n",
       "      <th>std</th>\n",
       "      <td>0.81697</td>\n",
       "      <td>76.706554</td>\n",
       "      <td>39.424974</td>\n",
       "      <td>26.639971</td>\n",
       "      <td>15.083471</td>\n",
       "      <td>40.522641</td>\n",
       "      <td>25.380041</td>\n",
       "      <td>1.023397</td>\n",
       "    </tr>\n",
       "    <tr>\n",
       "      <th>min</th>\n",
       "      <td>1.00000</td>\n",
       "      <td>41.000000</td>\n",
       "      <td>0.000000</td>\n",
       "      <td>5.880551</td>\n",
       "      <td>0.000000</td>\n",
       "      <td>5.880551</td>\n",
       "      <td>5.880551</td>\n",
       "      <td>-8.662996</td>\n",
       "    </tr>\n",
       "    <tr>\n",
       "      <th>25%</th>\n",
       "      <td>1.00000</td>\n",
       "      <td>70.653159</td>\n",
       "      <td>2.320923</td>\n",
       "      <td>80.313873</td>\n",
       "      <td>2.295318</td>\n",
       "      <td>93.658537</td>\n",
       "      <td>66.638681</td>\n",
       "      <td>-0.493218</td>\n",
       "    </tr>\n",
       "    <tr>\n",
       "      <th>50%</th>\n",
       "      <td>2.00000</td>\n",
       "      <td>82.288538</td>\n",
       "      <td>5.088333</td>\n",
       "      <td>93.753839</td>\n",
       "      <td>5.391306</td>\n",
       "      <td>111.304348</td>\n",
       "      <td>81.702128</td>\n",
       "      <td>-0.016543</td>\n",
       "    </tr>\n",
       "    <tr>\n",
       "      <th>75%</th>\n",
       "      <td>3.00000</td>\n",
       "      <td>96.740132</td>\n",
       "      <td>16.284518</td>\n",
       "      <td>108.700065</td>\n",
       "      <td>20.185649</td>\n",
       "      <td>147.692308</td>\n",
       "      <td>96.000000</td>\n",
       "      <td>0.410492</td>\n",
       "    </tr>\n",
       "    <tr>\n",
       "      <th>max</th>\n",
       "      <td>3.00000</td>\n",
       "      <td>1306.000000</td>\n",
       "      <td>388.673242</td>\n",
       "      <td>187.317073</td>\n",
       "      <td>89.155080</td>\n",
       "      <td>192.000000</td>\n",
       "      <td>187.317073</td>\n",
       "      <td>3.853186</td>\n",
       "    </tr>\n",
       "  </tbody>\n",
       "</table>\n",
       "</div>"
      ],
      "text/plain": [
       "           class  avg_d_peaks  std_d_peaks     avg_bpm     std_bpm  \\\n",
       "count  864.00000   864.000000   864.000000  864.000000  864.000000   \n",
       "mean     2.00000    93.029643    16.595479   95.746895   13.493116   \n",
       "std      0.81697    76.706554    39.424974   26.639971   15.083471   \n",
       "min      1.00000    41.000000     0.000000    5.880551    0.000000   \n",
       "25%      1.00000    70.653159     2.320923   80.313873    2.295318   \n",
       "50%      2.00000    82.288538     5.088333   93.753839    5.391306   \n",
       "75%      3.00000    96.740132    16.284518  108.700065   20.185649   \n",
       "max      3.00000  1306.000000   388.673242  187.317073   89.155080   \n",
       "\n",
       "          max_bpm     min_bpm   dct_1coef  \n",
       "count  864.000000  864.000000  864.000000  \n",
       "mean   122.655867   79.347043   -0.103839  \n",
       "std     40.522641   25.380041    1.023397  \n",
       "min      5.880551    5.880551   -8.662996  \n",
       "25%     93.658537   66.638681   -0.493218  \n",
       "50%    111.304348   81.702128   -0.016543  \n",
       "75%    147.692308   96.000000    0.410492  \n",
       "max    192.000000  187.317073    3.853186  "
      ]
     },
     "execution_count": 45,
     "metadata": {},
     "output_type": "execute_result"
    }
   ],
   "source": [
    "range_class = range(1,4)\n",
    "range_samples_per_class = range(1,31)\n",
    "range_train_samples = range(1,22)\n",
    "range_test_samples = range(22,31)\n",
    "\n",
    "df_train = df_ecg_data[(df_ecg_data['sampled_from'].isin(range_train_samples))]\n",
    "df_test = df_ecg_data[(df_ecg_data['sampled_from'].isin(range_test_samples))]\n",
    "\n",
    "# dropping useless columns for classification\n",
    "df_train = df_train.drop(columns=['sampled_from', 'n_chunk'])\n",
    "df_test = df_test.drop(columns=['sampled_from', 'n_chunk'])\n",
    "\n",
    "df_test.describe()"
   ]
  },
  {
   "cell_type": "markdown",
   "metadata": {},
   "source": [
    "#### __Classification__\n",
    "\n",
    "Now with our feature extraction completed, we are going to classify our samples. In order to do this we are going to use to approaches:\n",
    "\n",
    "* __SVM__: We are going to use the SVC Support Vector Classifier from the `sklearn` library.\n",
    "* __Random Forest__: We are going to use the a boosting algorithm called Random Forest from the `sklearn` library.\n",
    "* __LSTM__: Since the data that we are using may have temporal dependencies, we think that a LSTM mixed with some features that we have extracted may work quite well classifying the samples. We will use `keras` for this approach."
   ]
  },
  {
   "cell_type": "code",
   "execution_count": 46,
   "metadata": {
    "notebookRunGroups": {
     "groupValue": ""
    }
   },
   "outputs": [],
   "source": [
    "X_train, y_train =  df_train.loc[:, df_train.columns!='class'], df_train['class']\n",
    "X_test, y_test =  df_test.loc[:, df_test.columns!='class'], df_test['class']"
   ]
  },
  {
   "cell_type": "code",
   "execution_count": 47,
   "metadata": {},
   "outputs": [],
   "source": [
    "X_train_singles_feat =  X_train.loc[:, X_train.columns.difference(['deriv1', 'deriv2', 'fft', 'dct', 'ecg_data', 'dct_orig'])]\n",
    "X_test_singles_feat =  X_test.loc[:, X_test.columns.difference(['deriv1', 'deriv2', 'fft', 'dct', 'ecg_data', 'dct_orig'])]\n",
    "\n",
    "X_train_ecg_data = np.stack(X_train['ecg_data'].values)\n",
    "X_test_ecg_data = np.stack(X_test['ecg_data'].values)\n",
    "\n",
    "X_train_dct = np.stack(X_train['dct_orig'].values)\n",
    "X_test_dct= np.stack(X_test['dct_orig'].values)"
   ]
  },
  {
   "cell_type": "markdown",
   "metadata": {},
   "source": [
    "#### __SVM__: Classic ML approach"
   ]
  },
  {
   "cell_type": "code",
   "execution_count": 48,
   "metadata": {
    "notebookRunGroups": {
     "groupValue": ""
    }
   },
   "outputs": [
    {
     "name": "stdout",
     "output_type": "stream",
     "text": [
      "Training score: 0.5932539682539683 | Test score: 0.5219907407407407\n"
     ]
    }
   ],
   "source": [
    "from sklearn.svm import SVC\n",
    "from sklearn.pipeline import make_pipeline\n",
    "from sklearn.preprocessing import StandardScaler\n",
    "from sklearn.metrics import accuracy_score\n",
    "\n",
    "# Constantes\n",
    "C=15\n",
    "KERNEL='rbf'\n",
    "\n",
    "clf = make_pipeline(StandardScaler(), SVC(C=C, kernel=KERNEL, gamma='auto', probability=True))\n",
    "clf.fit(X_train_dct,y_train)\n",
    "\n",
    "y_train_pred = clf.predict(X_train_dct)\n",
    "train_score = accuracy_score(y_train, y_train_pred)\n",
    "\n",
    "y_test_pred = clf.predict(X_test_dct)\n",
    "test_score = accuracy_score(y_test, y_test_pred)\n",
    "\n",
    "print(f\"Training score: {train_score} | Test score: {test_score}\")"
   ]
  },
  {
   "cell_type": "code",
   "execution_count": 49,
   "metadata": {
    "notebookRunGroups": {
     "groupValue": ""
    }
   },
   "outputs": [
    {
     "name": "stdout",
     "output_type": "stream",
     "text": [
      "Training score: 0.9910714285714286 | Test score: 0.7337962962962963\n"
     ]
    }
   ],
   "source": [
    "clf = make_pipeline(StandardScaler(), SVC(C=C, kernel=KERNEL, gamma='auto', probability=True))\n",
    "clf.fit(X_train_ecg_data,y_train)\n",
    "\n",
    "y_train_pred = clf.predict(X_train_ecg_data)\n",
    "train_score = accuracy_score(y_train, y_train_pred)\n",
    "\n",
    "y_test_pred = clf.predict(X_test_ecg_data)\n",
    "test_score = accuracy_score(y_test, y_test_pred)\n",
    "\n",
    "print(f\"Training score: {train_score} | Test score: {test_score}\")"
   ]
  },
  {
   "cell_type": "markdown",
   "metadata": {},
   "source": [
    "#### __Random Forest__: Classic ML approach"
   ]
  },
  {
   "cell_type": "code",
   "execution_count": 55,
   "metadata": {},
   "outputs": [
    {
     "name": "stdout",
     "output_type": "stream",
     "text": [
      "Training score: 1.0 | Test score: 0.5335648148148148\n"
     ]
    }
   ],
   "source": [
    "from sklearn.ensemble import RandomForestClassifier\n",
    "\n",
    "# Constantes\n",
    "C=15\n",
    "KERNEL='rbf'\n",
    "\n",
    "clf = make_pipeline(StandardScaler(), RandomForestClassifier())\n",
    "clf.fit(X_train_singles_feat,y_train)\n",
    "\n",
    "y_train_pred = clf.predict(X_train_singles_feat)\n",
    "train_score = accuracy_score(y_train, y_train_pred)\n",
    "\n",
    "y_test_pred = clf.predict(X_test_singles_feat)\n",
    "test_score = accuracy_score(y_test, y_test_pred)\n",
    "\n",
    "print(f\"Training score: {train_score} | Test score: {test_score}\")"
   ]
  },
  {
   "cell_type": "markdown",
   "metadata": {
    "notebookRunGroups": {
     "groupValue": "1"
    }
   },
   "source": [
    "#### __LSTM__: Capturing the temporal dependencies, the Deep Learning approach"
   ]
  },
  {
   "cell_type": "code",
   "execution_count": 51,
   "metadata": {},
   "outputs": [
    {
     "name": "stdout",
     "output_type": "stream",
     "text": [
      "1 Physical GPUs, 1 Logical GPUs\n"
     ]
    }
   ],
   "source": [
    "import tensorflow as tf\n",
    "from tensorflow import keras\n",
    "from keras.layers import Dense, LSTM, Normalization,Dropout\n",
    "\n",
    "import tensorflow as tf\n",
    "gpus = tf.config.experimental.list_physical_devices('GPU')\n",
    "if gpus:\n",
    "    try:\n",
    "        # Currently, memory growth needs to be the same across GPUs\n",
    "        for gpu in gpus:\n",
    "            tf.config.experimental.set_memory_growth(gpu, True)\n",
    "        logical_gpus = tf.config.experimental.list_logical_devices('GPU')\n",
    "        print(len(gpus), \"Physical GPUs,\", len(logical_gpus), \"Logical GPUs\")\n",
    "    except RuntimeError as e:\n",
    "        # Memory growth must be set before GPUs have been initialized\n",
    "        print(e)\n",
    "\n",
    "# It is possible to change the variables: units of layers, function loss, optimizer, epochs, and batch size\n",
    "EPOCHS=10\n",
    "BATCH_SIZE=64"
   ]
  },
  {
   "cell_type": "code",
   "execution_count": 52,
   "metadata": {},
   "outputs": [
    {
     "name": "stdout",
     "output_type": "stream",
     "text": [
      "Model: \"model_1\"\n",
      "_________________________________________________________________\n",
      " Layer (type)                Output Shape              Param #   \n",
      "=================================================================\n",
      " input_2 (InputLayer)        [(64, 2000, 1)]           0         \n",
      "                                                                 \n",
      " normalization_1 (Normaliza  (64, 2000, 1)             4001      \n",
      " tion)                                                           \n",
      "                                                                 \n",
      " lstm_1 (LSTM)               (64, 32)                  4352      \n",
      "                                                                 \n",
      " dropout_1 (Dropout)         (64, 32)                  0         \n",
      "                                                                 \n",
      " dense_2 (Dense)             (64, 32)                  1056      \n",
      "                                                                 \n",
      " dense_3 (Dense)             (64, 3)                   99        \n",
      "                                                                 \n",
      "=================================================================\n",
      "Total params: 9508 (37.14 KB)\n",
      "Trainable params: 5507 (21.51 KB)\n",
      "Non-trainable params: 4001 (15.63 KB)\n",
      "_________________________________________________________________\n"
     ]
    }
   ],
   "source": [
    "# Design the model\n",
    "# Input: shape of the X_train_ecg_data \n",
    "ecg_input = keras.layers.Input(shape=(X_train_ecg_data.shape[1], 1), batch_size=BATCH_SIZE)\n",
    "ecg_input_norm = Normalization(axis=1)(ecg_input)\n",
    "x = LSTM(units=32, activation=\"tanh\", return_sequences=False)(ecg_input_norm)\n",
    "x = Dropout(0.2)(x)\n",
    "x = Dense(units=32, activation=\"relu\")(x)\n",
    "output = Dense(3, activation=\"softmax\")(x) # Output: three possibles targets (1,2,3)\n",
    "\n",
    "model = keras.Model(ecg_input, output)\n",
    "\n",
    "model.summary()\n"
   ]
  },
  {
   "cell_type": "code",
   "execution_count": 53,
   "metadata": {},
   "outputs": [
    {
     "name": "stdout",
     "output_type": "stream",
     "text": [
      "Epoch 1/10\n",
      "32/32 [==============================] - 2s 35ms/step - loss: nan - accuracy: 0.0074\n",
      "Epoch 2/10\n",
      "32/32 [==============================] - 1s 35ms/step - loss: nan - accuracy: 0.0000e+00\n",
      "Epoch 3/10\n",
      "32/32 [==============================] - 1s 35ms/step - loss: nan - accuracy: 0.0000e+00\n",
      "Epoch 4/10\n",
      "32/32 [==============================] - 1s 35ms/step - loss: nan - accuracy: 0.0000e+00\n",
      "Epoch 5/10\n",
      "32/32 [==============================] - 1s 35ms/step - loss: nan - accuracy: 0.0000e+00\n",
      "Epoch 6/10\n",
      "32/32 [==============================] - 1s 35ms/step - loss: nan - accuracy: 0.0000e+00\n",
      "Epoch 7/10\n",
      "32/32 [==============================] - 1s 35ms/step - loss: nan - accuracy: 0.0000e+00\n",
      "Epoch 8/10\n",
      "32/32 [==============================] - 1s 35ms/step - loss: nan - accuracy: 0.0000e+00\n",
      "Epoch 9/10\n",
      "32/32 [==============================] - 1s 35ms/step - loss: nan - accuracy: 0.0000e+00\n",
      "Epoch 10/10\n",
      "32/32 [==============================] - 1s 35ms/step - loss: nan - accuracy: 0.0000e+00\n"
     ]
    }
   ],
   "source": [
    "X_train_ecg_data = np.stack(X_train['ecg_data'].values)\n",
    "X_test_ecg_data = np.stack(X_test['ecg_data'].values)\n",
    "\n",
    "# Compile the model\n",
    "model.compile(\n",
    "    optimizer=keras.optimizers.Adam(learning_rate=0.001),\n",
    "    loss='sparse_categorical_crossentropy',\n",
    "    metrics=['accuracy']\n",
    ")\n",
    "\n",
    "# Training the model\n",
    "history = model.fit(X_train_ecg_data, y_train, epochs=EPOCHS, batch_size=BATCH_SIZE, verbose=1)"
   ]
  },
  {
   "cell_type": "code",
   "execution_count": 54,
   "metadata": {},
   "outputs": [
    {
     "name": "stdout",
     "output_type": "stream",
     "text": [
      "Test loss: nan | Test accuracy: 0.0\n"
     ]
    }
   ],
   "source": [
    "# Evaluate the model with loss and accuracy\n",
    "loss, accuracy = model.evaluate(X_test_ecg_data, y_test, verbose=0)\n",
    "\n",
    "print(f\"Test loss: {loss} | Test accuracy: {accuracy}\")"
   ]
  },
  {
   "cell_type": "code",
   "execution_count": null,
   "metadata": {},
   "outputs": [],
   "source": []
  }
 ],
 "metadata": {
  "kernelspec": {
   "display_name": "Python 3",
   "language": "python",
   "name": "python3"
  },
  "language_info": {
   "codemirror_mode": {
    "name": "ipython",
    "version": 3
   },
   "file_extension": ".py",
   "mimetype": "text/x-python",
   "name": "python",
   "nbconvert_exporter": "python",
   "pygments_lexer": "ipython3",
   "version": "3.8.10"
  }
 },
 "nbformat": 4,
 "nbformat_minor": 2
}
